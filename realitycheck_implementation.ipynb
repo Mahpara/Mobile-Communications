{
 "cells": [
  {
   "cell_type": "code",
   "execution_count": null,
   "metadata": {},
   "outputs": [],
   "source": [
    "data = pd.read_csv(\"ex1.csv\")\n",
    "data.columns=['timestamp', 'x', 'y', 'rs']\n",
    "data[\"start_x\"], data[\"start_y\"] = 50.4202596, 7.504913\n",
    "\n",
    "#lats\n",
    "data[\"a\"] = (data.x - data.start_x) * 111320\n",
    "#longs\n",
    "data[\"b\"] = (data.y - data.start_y) * 111320 * data[\"a\"].apply(np.cos)\n",
    "\n",
    "#distance calculation\n",
    "data.a = data.a.apply(np.square) #dist in x dim\n",
    "data.b = data.b.apply(np.square) #dist in y dim\n",
    "data[\"d\"] = data.a + data.b\n",
    "data.d = data.d.apply(np.sqrt) #dist\n",
    "\n",
    "#path loss calcu\n",
    "data[\"FSP\"] = data.d.apply(PL_FSP_func) #path loss fsp calc\n",
    "data[\"TLD\"] = data.d.apply(PL_TLD_func) #path loss tld calc\n"
   ]
  }
 ],
 "metadata": {
  "kernelspec": {
   "display_name": "Python 3",
   "language": "python",
   "name": "python3"
  },
  "language_info": {
   "codemirror_mode": {
    "name": "ipython",
    "version": 3
   },
   "file_extension": ".py",
   "mimetype": "text/x-python",
   "name": "python",
   "nbconvert_exporter": "python",
   "pygments_lexer": "ipython3",
   "version": "3.7.4"
  }
 },
 "nbformat": 4,
 "nbformat_minor": 2
}
