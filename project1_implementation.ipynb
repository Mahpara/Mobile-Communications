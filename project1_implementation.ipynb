{
 "cells": [
  {
   "cell_type": "code",
   "execution_count": null,
   "metadata": {},
   "outputs": [],
   "source": [
    "import math\n",
    "import pandas as pd\n",
    "import matplotlib\n",
    "import numpy as np\n",
    "%matplotlib inline\n",
    "\n",
    "def PL_FSP(lambda_, d):\n",
    "    return 10 * mylog10((math.pow(d,2) * math.pow(4 * math.pi, 2)) / math.pow(lambda_, 2))\n",
    "\n",
    "def PL_TRG(ht, hr, d):\n",
    "    return 10*mylog10(math.pow(d,4)/(math.pow(ht,2)*math.pow(he,2)))\n",
    "\n",
    "def dc(lambda_, ht, hr):\n",
    "    return (4*math.pi*hr*ht)/lambda_\n",
    "\n",
    "def PL_TLD(d,d0,d1,d2,L0,n0,n1,n2):\n",
    "    if d<d0:\n",
    "        return 0\n",
    "    elseif d0<=d and d<d1:\n",
    "        return L0 + 10 * n0 * mylog10(d/d0)\n",
    "    elseif d1<=d and d<d2:\n",
    "        return L0 + 10 * n0 * mylog10(d1/d0)+10*n1*mylog10(d/d1)\n",
    "    elseif d2<=d:\n",
    "    return L0 + 10 * n0 * mylog10(d1/d0)+10*n1*mylog10(d2/d1)+10*n2*mylog10(d/d2)\n",
    "\n",
    "def mylog10(x):\n",
    "    return math.log10(max(0.00000000000000000000001,x))\n",
    "\n",
    "def PL_FSP_func(d):\n",
    "    lambda_=1.35\n",
    "    ht=50\n",
    "    hr=2\n",
    "    d0,d1,d2=1,200,500\n",
    "    n0,n1,n2=2.0,3.0,3.0\n",
    "    L0=19.377\n",
    "    dc_val=dc(lambda_,ht,hr)\n",
    "    return PL_FSP(lambda_,d) if d<=dc_val else PL_TRG(ht,hr,d)\n",
    "\n",
    "def PL_TLD_func(d):\n",
    "    lambda_=1.35\n",
    "    ht=50\n",
    "    hr=2\n",
    "    d0,d1,d2=1,200,500\n",
    "    n0,n1,n2=2.0,3.0,3.0\n",
    "    L0=19.377\n",
    "    dc_val=dc(lambda_,ht,hr)\n",
    "    return PL_TLD(d,d0,d1,d2,L0,n0,n1,n2)\n"
   ]
  },
  {
   "cell_type": "code",
   "execution_count": null,
   "metadata": {},
   "outputs": [],
   "source": []
  }
 ],
 "metadata": {
  "kernelspec": {
   "display_name": "Python 3",
   "language": "python",
   "name": "python3"
  },
  "language_info": {
   "codemirror_mode": {
    "name": "ipython",
    "version": 3
   },
   "file_extension": ".py",
   "mimetype": "text/x-python",
   "name": "python",
   "nbconvert_exporter": "python",
   "pygments_lexer": "ipython3",
   "version": "3.7.4"
  }
 },
 "nbformat": 4,
 "nbformat_minor": 2
}
