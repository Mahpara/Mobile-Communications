{
 "cells": [
  {
   "cell_type": "code",
   "execution_count": null,
   "metadata": {},
   "outputs": [],
   "source": [
    "#normalization\n",
    "data[\"FSP\"] = (data[\"FSP\"] - min(data[\"FSP\"])) / (max(data[\"FSP\"]) - min(data[\"FSP\"]))\n",
    "data[\"TLD\"] = (data[\"TLD\"] - min(data[\"TLD\"])) / (max(data[\"TLD\"]) - min(data[\"TLD\"]))\n",
    "data[\"rs\"] = (data[\"rs\"] - min(data[\"rs\"])) / (max(data[\"rs\"]) - min(data[\"rs\"]))\n",
    "\n",
    "#inversion\n",
    "data.rs = np.abs(data.rs - 1)\n",
    "\n",
    "data[[\"rs\", \"FSP\", \"TLD\"]].plot()"
   ]
  }
 ],
 "metadata": {
  "kernelspec": {
   "display_name": "Python 3",
   "language": "python",
   "name": "python3"
  },
  "language_info": {
   "codemirror_mode": {
    "name": "ipython",
    "version": 3
   },
   "file_extension": ".py",
   "mimetype": "text/x-python",
   "name": "python",
   "nbconvert_exporter": "python",
   "pygments_lexer": "ipython3",
   "version": "3.7.4"
  }
 },
 "nbformat": 4,
 "nbformat_minor": 2
}
